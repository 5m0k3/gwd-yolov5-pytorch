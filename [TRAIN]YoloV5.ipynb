{
 "cells": [
  {
   "cell_type": "markdown",
   "metadata": {
    "hide_input": false
   },
   "source": [
    "# YoloV5 Training Notebook\n",
    "Find the ready to use deployed version on Colab : https://colab.research.google.com/drive/1ITSR4jkFPuusqCM6Ob2yUkI43wmDLv0T?usp=sharing  \n",
    "YoloV5 by default uses TensorBoard, some of my logs can be found on here: https://tensorboard.dev/experiment/0UjGUJATQ5CpbNuaBGOv8w/#scalars"
   ]
  },
  {
   "cell_type": "markdown",
   "metadata": {},
   "source": [
    "## 1. Setup"
   ]
  },
  {
   "cell_type": "code",
   "execution_count": null,
   "metadata": {
    "colab": {},
    "colab_type": "code",
    "id": "tWW67n5xwR75"
   },
   "outputs": [],
   "source": [
    "# Necessary imports for Google Colab\n",
    "!pip install --upgrade --force-reinstall --no-deps kaggle\n",
    "!pip install --upgrade --force-reinstall --no-deps albumentations"
   ]
  },
  {
   "cell_type": "code",
   "execution_count": null,
   "metadata": {
    "colab": {
     "base_uri": "https://localhost:8080/",
     "height": 353
    },
    "colab_type": "code",
    "id": "QUDFsYjIF8cj",
    "outputId": "91102592-0f59-42a2-f9e9-959b1aa7e645"
   },
   "outputs": [
    {
     "name": "stdout",
     "output_type": "stream",
     "text": [
      "Fri Jul 17 17:19:18 2020       \n",
      "+-----------------------------------------------------------------------------+\n",
      "| NVIDIA-SMI 450.51.05    Driver Version: 418.67       CUDA Version: 10.1     |\n",
      "|-------------------------------+----------------------+----------------------+\n",
      "| GPU  Name        Persistence-M| Bus-Id        Disp.A | Volatile Uncorr. ECC |\n",
      "| Fan  Temp  Perf  Pwr:Usage/Cap|         Memory-Usage | GPU-Util  Compute M. |\n",
      "|                               |                      |               MIG M. |\n",
      "|===============================+======================+======================|\n",
      "|   0  Tesla P100-PCIE...  Off  | 00000000:00:04.0 Off |                    0 |\n",
      "| N/A   41C    P0    27W / 250W |      0MiB / 16280MiB |      0%      Default |\n",
      "|                               |                      |                 ERR! |\n",
      "+-------------------------------+----------------------+----------------------+\n",
      "                                                                               \n",
      "+-----------------------------------------------------------------------------+\n",
      "| Processes:                                                                  |\n",
      "|  GPU   GI   CI        PID   Type   Process name                  GPU Memory |\n",
      "|        ID   ID                                                   Usage      |\n",
      "|=============================================================================|\n",
      "|  No running processes found                                                 |\n",
      "+-----------------------------------------------------------------------------+\n"
     ]
    }
   ],
   "source": [
    "!nvidia-smi"
   ]
  },
  {
   "cell_type": "code",
   "execution_count": null,
   "metadata": {
    "colab": {
     "base_uri": "https://localhost:8080/",
     "height": 34
    },
    "colab_type": "code",
    "id": "AbcUpXpnxFxH",
    "outputId": "186f1c56-c671-45b4-e63a-8cc62367668b"
   },
   "outputs": [
    {
     "name": "stdout",
     "output_type": "stream",
     "text": [
      "/content/drive/My Drive/global-wheat-detection/NEWyolov5\n"
     ]
    }
   ],
   "source": [
    "!mkdir \"./drive/My Drive/global-wheat-detection/NEWyolov5\"\n",
    "%cd \"./drive/My Drive/global-wheat-detection/NEWyolov5\""
   ]
  },
  {
   "cell_type": "code",
   "execution_count": null,
   "metadata": {
    "colab": {},
    "colab_type": "code",
    "id": "GTqRVKItwYJs"
   },
   "outputs": [],
   "source": [
    "import os\n",
    "os.environ['KAGGLE_USERNAME']=\"NAME\"\n",
    "os.environ['KAGGLE_KEY']=\"KEY\""
   ]
  },
  {
   "cell_type": "code",
   "execution_count": null,
   "metadata": {
    "colab": {},
    "colab_type": "code",
    "id": "YZS-6rHowun0"
   },
   "outputs": [],
   "source": [
    "!kaggle competitions download -c global-wheat-detection\n",
    "!unzip global-wheat-detection.zip -d global-wheat-detection\n",
    "!rm -r global-wheat-detection.zip\n",
    "\n",
    "!kaggle datasets download -d qiyaowei/yolov5-files\n",
    "!unzip yolov5-files -d yolov5-files\n",
    "!rm -r yolov5-files.zip\n",
    "\n",
    "!kaggle datasets download -d tanmaypandey/configyolov5-newpath\n",
    "!unzip configyolov5-newpath -d configyolov5-newpath\n",
    "!rm -r configyolov5-newpath.zip"
   ]
  },
  {
   "cell_type": "code",
   "execution_count": null,
   "metadata": {
    "colab": {},
    "colab_type": "code",
    "id": "GeYZ99HEvhUq"
   },
   "outputs": [],
   "source": [
    "!mkdir repos\n",
    "%cd repos"
   ]
  },
  {
   "cell_type": "code",
   "execution_count": null,
   "metadata": {
    "_cell_guid": "79c7e3d0-c299-4dcb-8224-4455121ee9b0",
    "_kg_hide-input": true,
    "_uuid": "d629ff2d2480ee46fbb7e2d37f6b5fab8052498a",
    "colab": {},
    "colab_type": "code",
    "id": "ApSOZuL3vhUt"
   },
   "outputs": [],
   "source": [
    "%cd /content/\n",
    "!unzip y5.zip -d yolov5\n",
    "#!git clone https://github.com/ultralytics/yolov5  # This repo is frequently updated, to prevent compatibility issues in future use saved repo"
   ]
  },
  {
   "cell_type": "code",
   "execution_count": null,
   "metadata": {
    "_kg_hide-input": true,
    "colab": {},
    "colab_type": "code",
    "id": "pFWyKHEHvhUw"
   },
   "outputs": [],
   "source": [
    "!mv yolov5/* '/content/drive/My Drive/global-wheat-detection/NEWyolov5/repos/'"
   ]
  },
  {
   "cell_type": "code",
   "execution_count": null,
   "metadata": {
    "colab": {
     "base_uri": "https://localhost:8080/",
     "height": 34
    },
    "colab_type": "code",
    "id": "X1UiwBWnPplz",
    "outputId": "19b14525-53e1-42b0-d11b-9474feeeb30f"
   },
   "outputs": [
    {
     "name": "stdout",
     "output_type": "stream",
     "text": [
      "/content/drive/My Drive/global-wheat-detection/NEWyolov5/repos\n"
     ]
    }
   ],
   "source": [
    "%cd '/content/drive/My Drive/global-wheat-detection/NEWyolov5/repos'"
   ]
  },
  {
   "cell_type": "code",
   "execution_count": null,
   "metadata": {
    "_kg_hide-input": true,
    "_kg_hide-output": true,
    "colab": {},
    "colab_type": "code",
    "id": "uK4rCFgIvhUz"
   },
   "outputs": [],
   "source": [
    "!pip install -r requirements.txt"
   ]
  },
  {
   "cell_type": "code",
   "execution_count": null,
   "metadata": {
    "colab": {
     "base_uri": "https://localhost:8080/",
     "height": 34
    },
    "colab_type": "code",
    "id": "1i--QK-mvhU1",
    "outputId": "1d45e435-266a-4759-95d5-91e5433db7f7"
   },
   "outputs": [
    {
     "name": "stdout",
     "output_type": "stream",
     "text": [
      "/content/drive/My Drive/global-wheat-detection/NEWyolov5/repos\n"
     ]
    }
   ],
   "source": [
    "!pwd"
   ]
  },
  {
   "cell_type": "code",
   "execution_count": null,
   "metadata": {
    "colab": {
     "base_uri": "https://localhost:8080/",
     "height": 34
    },
    "colab_type": "code",
    "id": "BpXQ1Da3y4sk",
    "outputId": "b7262f13-0035-42c2-9e6e-eb3e09bd6b6e"
   },
   "outputs": [
    {
     "name": "stdout",
     "output_type": "stream",
     "text": [
      "/content/drive/My Drive/global-wheat-detection/NEWyolov5\n"
     ]
    }
   ],
   "source": [
    "%cd ../\n",
    "#%cd /content/drive/My Drive/global-wheat-detection/yolov5"
   ]
  },
  {
   "cell_type": "code",
   "execution_count": null,
   "metadata": {
    "colab": {},
    "colab_type": "code",
    "id": "FrKAIMN-_Z-u"
   },
   "outputs": [],
   "source": [
    "import numpy as np\n",
    "import pandas as pd \n",
    "import os\n",
    "from tqdm.auto import tqdm\n",
    "import shutil as sh\n",
    "from sklearn.model_selection import StratifiedKFold\n",
    "\n",
    "SEED = 42\n",
    "\n",
    "def seed_everything(seed):\n",
    "    os.environ['PYTHONHASHSEED'] = str(seed)\n",
    "    np.random.seed(seed)\n",
    "seed_everything(SEED)"
   ]
  },
  {
   "cell_type": "markdown",
   "metadata": {},
   "source": [
    "## 2. Pre-Processing"
   ]
  },
  {
   "cell_type": "code",
   "execution_count": null,
   "metadata": {
    "colab": {},
    "colab_type": "code",
    "id": "LErn-vcJ_VuC"
   },
   "outputs": [],
   "source": [
    "marking = pd.read_csv('./global-wheat-detection/train.csv')\n",
    "\n",
    "bboxs = np.stack(marking['bbox'].apply(lambda x: np.fromstring(x[1:-1], sep=',')))\n",
    "for i, column in enumerate(['x', 'y', 'w', 'h']):\n",
    "    marking[column] = bboxs[:,i]\n",
    "marking.drop(columns=['bbox'], inplace=True)\n",
    "marking['area'] = marking['w'] * marking['h']\n",
    "marking=marking[marking['area']<100000].reset_index(drop=True)\n",
    "del marking['area']\n",
    "#marking.head()"
   ]
  },
  {
   "cell_type": "code",
   "execution_count": null,
   "metadata": {
    "colab": {
     "base_uri": "https://localhost:8080/",
     "height": 70
    },
    "colab_type": "code",
    "id": "gdQAiPU2ADQo",
    "outputId": "def22df6-8a21-4ff7-b8b1-22698ea90d38"
   },
   "outputs": [
    {
     "name": "stderr",
     "output_type": "stream",
     "text": [
      "/usr/local/lib/python3.6/dist-packages/sklearn/model_selection/_split.py:667: UserWarning: The least populated class in y has only 1 members, which is less than n_splits=10.\n",
      "  % (min_groups, self.n_splits)), UserWarning)\n"
     ]
    }
   ],
   "source": [
    "skf = StratifiedKFold(n_splits=10, shuffle=True, random_state=42)\n",
    "\n",
    "df_folds = marking[['image_id']].copy()\n",
    "df_folds.loc[:, 'bbox_count'] = 1\n",
    "df_folds = df_folds.groupby('image_id').count()\n",
    "df_folds.loc[:, 'source'] = marking[['image_id', 'source']].groupby('image_id').min()['source']\n",
    "df_folds.loc[:, 'stratify_group'] = np.char.add(\n",
    "    df_folds['source'].values.astype(str),\n",
    "    df_folds['bbox_count'].apply(lambda x: f'_{x // 15}').values.astype(str)\n",
    ")\n",
    "df_folds.loc[:, 'fold'] = 0\n",
    "\n",
    "for fold_number, (train_index, val_index) in enumerate(skf.split(X=df_folds.index, y=df_folds['stratify_group'])):\n",
    "    df_folds.loc[df_folds.iloc[val_index].index, 'fold'] = fold_number\n",
    "\n",
    "#df_folds.head()"
   ]
  },
  {
   "cell_type": "code",
   "execution_count": null,
   "metadata": {
    "colab": {
     "base_uri": "https://localhost:8080/",
     "height": 50
    },
    "colab_type": "code",
    "id": "xtkkQ5mxCFDk",
    "outputId": "02820d93-9077-4077-f667-e0ddddc67679"
   },
   "outputs": [
    {
     "name": "stdout",
     "output_type": "stream",
     "text": [
      "Train size: 3035 \n",
      "Val size: 338\n"
     ]
    }
   ],
   "source": [
    "folds=df_folds.reset_index()\n",
    "index=list(set(folds.image_id))\n",
    "\n",
    "fold=0\n",
    "val_fold=folds[folds['fold']==fold]\n",
    "val_index=list(set(val_fold.image_id))\n",
    "\n",
    "print(f'Train size: {len(index)-len(val_index)} \\nVal size: {len(val_index)}')"
   ]
  },
  {
   "cell_type": "code",
   "execution_count": null,
   "metadata": {
    "colab": {},
    "colab_type": "code",
    "id": "ycSESc19vhU4"
   },
   "outputs": [],
   "source": [
    "df = pd.read_csv('./global-wheat-detection/train.csv')\n",
    "bboxs = np.stack(df['bbox'].apply(lambda x: np.fromstring(x[1:-1], sep=',')))\n",
    "for i, column in enumerate(['x', 'y', 'w', 'h']):\n",
    "    df[column] = bboxs[:,i]\n",
    "df.drop(columns=['bbox'], inplace=True)\n",
    "df['x_center'] = df['x'] + df['w']/2\n",
    "df['y_center'] = df['y'] + df['h']/2\n",
    "df['classes'] = 0\n",
    "df = df[['image_id','x', 'y', 'w', 'h','x_center','y_center','classes']]\n",
    "df['area'] = df['w'] * df['h']\n",
    "df=df[df['area']<100000].reset_index(drop=True)\n",
    "del df['area']\n",
    "#df.head()"
   ]
  },
  {
   "cell_type": "code",
   "execution_count": null,
   "metadata": {
    "colab": {
     "base_uri": "https://localhost:8080/",
     "height": 34
    },
    "colab_type": "code",
    "id": "vyq5DK8ZvhVA",
    "outputId": "110d23fa-42d6-4bdf-cbd4-22a0a99dfee4"
   },
   "outputs": [
    {
     "name": "stdout",
     "output_type": "stream",
     "text": [
      "/content/drive/My Drive/global-wheat-detection/NEWyolov5/repos\n"
     ]
    }
   ],
   "source": [
    "%cd ./repos"
   ]
  },
  {
   "cell_type": "code",
   "execution_count": null,
   "metadata": {
    "colab": {
     "base_uri": "https://localhost:8080/",
     "height": 66,
     "referenced_widgets": [
      "2d338b8700e34eadb13d673f115bbce2",
      "d6c3fb98454149169cb513eac3d3781c",
      "79ebbe672732413b95ae300df25a3eba",
      "1e663ea412984fb19927486935f91db6",
      "3770961bf94d4f3f96bd8db08dcb05ec",
      "d14f62ffb3cd459e8f7d8ae475a51e4d",
      "25e9fca22c5d426aa8abbc5c893a2b66",
      "32b18bc46826430b916bf55020fd764f"
     ]
    },
    "colab_type": "code",
    "id": "-gfFmDps_tmr",
    "outputId": "67321ba3-1390-4631-84e8-ece83dd24e89"
   },
   "outputs": [
    {
     "data": {
      "application/vnd.jupyter.widget-view+json": {
       "model_id": "2d338b8700e34eadb13d673f115bbce2",
       "version_major": 2,
       "version_minor": 0
      },
      "text/plain": [
       "HBox(children=(FloatProgress(value=0.0, max=3373.0), HTML(value='')))"
      ]
     },
     "metadata": {
      "tags": []
     },
     "output_type": "display_data"
    },
    {
     "name": "stdout",
     "output_type": "stream",
     "text": [
      "\n"
     ]
    }
   ],
   "source": [
    "source = 'train'\n",
    "\n",
    "fold=0    #Always 0 for the pipeline to work\n",
    "for name,mini in tqdm(df.groupby('image_id')):\n",
    "    if name in val_index:\n",
    "        path2save = 'val2017/'\n",
    "    else:\n",
    "        path2save = 'train2017/'\n",
    "    if not os.path.exists('convertor/fold{}/labels/'.format(fold)+path2save):\n",
    "        os.makedirs('convertor/fold{}/labels/'.format(fold)+path2save)\n",
    "    with open('convertor/fold{}/labels/'.format(fold)+path2save+name+\".txt\", 'w+') as f:\n",
    "        row = mini[['classes','x_center','y_center','w','h']].astype(float).values\n",
    "        row = row/1024\n",
    "        row = row.astype(str)\n",
    "        for j in range(len(row)):\n",
    "            text = ' '.join(row[j])\n",
    "            f.write(text)\n",
    "            f.write(\"\\n\")\n",
    "    if not os.path.exists('convertor/fold{}/images/{}'.format(fold,path2save)):\n",
    "        os.makedirs('convertor/fold{}/images/{}'.format(fold,path2save))\n",
    "    sh.copy(\"../global-wheat-detection/{}/{}.jpg\".format(source,name),'convertor/fold{}/images/{}/{}.jpg'.format(fold,path2save,name))"
   ]
  },
  {
   "cell_type": "markdown",
   "metadata": {},
   "source": [
    "## 3. Training\n",
    "Produces records on TensorBoard, can also be accessed in repo folder after training"
   ]
  },
  {
   "cell_type": "code",
   "execution_count": null,
   "metadata": {
    "colab": {
     "base_uri": "https://localhost:8080/",
     "height": 1000
    },
    "colab_type": "code",
    "id": "jNe35jvvvhVc",
    "outputId": "d05ecfa6-3ae7-484d-f8e3-718b56ae447d"
   },
   "outputs": [
    {
     "name": "stdout",
     "output_type": "stream",
     "text": [
      "Apex recommended for faster mixed precision training: https://github.com/NVIDIA/apex\n",
      "{'lr0': 0.01, 'momentum': 0.937, 'weight_decay': 0.0005, 'giou': 0.05, 'cls': 0.58, 'cls_pw': 1.0, 'obj': 1.0, 'obj_pw': 1.0, 'iou_t': 0.2, 'anchor_t': 4.0, 'fl_gamma': 0.0, 'hsv_h': 0.014, 'hsv_s': 0.68, 'hsv_v': 0.36, 'degrees': 0.0, 'translate': 0.0, 'scale': 0.5, 'shear': 0.0}\n",
      "Namespace(adam=False, batch_size=4, bucket='', cache_images=False, cfg='../configyolov5-newpath/yolov5x.yaml', data='../configyolov5-newpath/wheat0.yaml', device='', epochs=70, evolve=False, img_size=[1024], multi_scale=False, name='yolov5x_4M70fold0', noautoanchor=False, nosave=False, notest=False, rect=False, resume=False, single_cls=False, weights='../yolov5-files/yolov5_weights/yolov5_models/yolov5x.pt')\n",
      "Using CUDA device0 _CudaDeviceProperties(name='Tesla P100-PCIE-16GB', total_memory=16280MB)\n",
      "\n",
      "2020-07-17 17:29:57.428574: I tensorflow/stream_executor/platform/default/dso_loader.cc:44] Successfully opened dynamic library libcudart.so.10.1\n",
      "Start Tensorboard with \"tensorboard --logdir=runs\", view at http://localhost:6006/\n",
      "\n",
      "              from  n    params  module                                  arguments                     \n",
      "  0             -1  1      8800  models.common.Focus                     [3, 80, 3]                    \n",
      "  1             -1  1    115520  models.common.Conv                      [80, 160, 3, 2]               \n",
      "  2             -1  4    513920  models.common.Bottleneck                [160, 160]                    \n",
      "  3             -1  1    461440  models.common.Conv                      [160, 320, 3, 2]              \n",
      "  4             -1  1   3311680  models.common.BottleneckCSP             [320, 320, 12]                \n",
      "  5             -1  1   1844480  models.common.Conv                      [320, 640, 3, 2]              \n",
      "  6             -1  1  13228160  models.common.BottleneckCSP             [640, 640, 12]                \n",
      "  7             -1  1   7375360  models.common.Conv                      [640, 1280, 3, 2]             \n",
      "  8             -1  1   4099840  models.common.SPP                       [1280, 1280, [5, 9, 13]]      \n",
      "  9             -1  1  36481280  models.common.BottleneckCSP             [1280, 1280, 8]               \n",
      " 10             -1  1  20087040  models.common.BottleneckCSP             [1280, 1280, 4, False]        \n",
      " 11             -1  1     23058  torch.nn.modules.conv.Conv2d            [1280, 18, 1, 1]              \n",
      " 12             -2  1         0  torch.nn.modules.upsampling.Upsample    [None, 2, 'nearest']          \n",
      " 13        [-1, 6]  1         0  models.common.Concat                    [1]                           \n",
      " 14             -1  1   1230080  models.common.Conv                      [1920, 640, 1, 1]             \n",
      " 15             -1  1   5025920  models.common.BottleneckCSP             [640, 640, 4, False]          \n",
      " 16             -1  1     11538  torch.nn.modules.conv.Conv2d            [640, 18, 1, 1]               \n",
      " 17             -2  1         0  torch.nn.modules.upsampling.Upsample    [None, 2, 'nearest']          \n",
      " 18        [-1, 4]  1         0  models.common.Concat                    [1]                           \n",
      " 19             -1  1    307840  models.common.Conv                      [960, 320, 1, 1]              \n",
      " 20             -1  1   1258560  models.common.BottleneckCSP             [320, 320, 4, False]          \n",
      " 21             -1  1      5778  torch.nn.modules.conv.Conv2d            [320, 18, 1, 1]               \n",
      " 22   [-1, 16, 11]  1         0  models.yolo.Detect                      [1, [[10, 13, 16, 30, 33, 23], [30, 61, 62, 45, 59, 119], [116, 90, 156, 198, 373, 326]]]\n",
      "Model Summary: 381 layers, 9.53903e+07 parameters, 9.53903e+07 gradients\n",
      "\n",
      "Optimizer groups: 126 .bias, 132 conv.weight, 123 other\n",
      "/usr/local/lib/python3.6/dist-packages/torch/serialization.py:657: SourceChangeWarning: source code of class 'models.yolo.Model' has changed. you can retrieve the original source code by accessing the object's source attribute or set `torch.nn.Module.dump_patches = True` and use the patch tool to revert the changes.\n",
      "  warnings.warn(msg, SourceChangeWarning)\n",
      "/usr/local/lib/python3.6/dist-packages/torch/serialization.py:657: SourceChangeWarning: source code of class 'models.common.Conv' has changed. you can retrieve the original source code by accessing the object's source attribute or set `torch.nn.Module.dump_patches = True` and use the patch tool to revert the changes.\n",
      "  warnings.warn(msg, SourceChangeWarning)\n",
      "/usr/local/lib/python3.6/dist-packages/torch/serialization.py:657: SourceChangeWarning: source code of class 'torch.nn.modules.conv.Conv2d' has changed. you can retrieve the original source code by accessing the object's source attribute or set `torch.nn.Module.dump_patches = True` and use the patch tool to revert the changes.\n",
      "  warnings.warn(msg, SourceChangeWarning)\n",
      "Reading image shapes: 100% 3035/3035 [00:05<00:00, 516.44it/s]\n",
      "Caching labels ../repos/convertor/fold0/labels/train2017 (3035 found, 0 missing, 0 empty, 0 duplicate, for 3035 images): 100% 3035/3035 [00:05<00:00, 516.72it/s]\n",
      "Saving labels to ../repos/convertor/fold0/labels/train2017.npy for faster future loading\n",
      "Reading image shapes: 100% 338/338 [00:00<00:00, 606.37it/s]\n",
      "Caching labels ../repos/convertor/fold0/labels/val2017 (338 found, 0 missing, 0 empty, 0 duplicate, for 338 images): 100% 338/338 [00:00<00:00, 577.29it/s]\n",
      "\n",
      "Analyzing anchors... Best Possible Recall (BPR) = 0.9992\n",
      "Image sizes 1024 train, 1024 test\n",
      "Using 2 dataloader workers\n",
      "Starting training for 70 epochs...\n",
      "\n",
      "     Epoch   gpu_mem      GIoU       obj       cls     total   targets  img_size\n",
      "      0/69     11.5G   0.07462     0.244         0    0.3186       204      1024: 100% 759/759 [12:16<00:00,  1.03it/s]\n",
      "               Class      Images     Targets           P           R      mAP@.5  mAP@.5:.95: 100% 85/85 [01:14<00:00,  1.13it/s]\n",
      "                 all         338     1.5e+04       0.288       0.935       0.824       0.349\n",
      "\n",
      "     Epoch   gpu_mem      GIoU       obj       cls     total   targets  img_size\n",
      "      1/69     14.1G   0.05271    0.2283         0     0.281       237      1024: 100% 759/759 [11:38<00:00,  1.09it/s]\n",
      "               Class      Images     Targets           P           R      mAP@.5  mAP@.5:.95: 100% 85/85 [01:11<00:00,  1.19it/s]\n",
      "                 all         338     1.5e+04       0.531       0.945       0.907       0.423\n",
      "\n",
      "     Epoch   gpu_mem      GIoU       obj       cls     total   targets  img_size\n",
      "      2/69     14.1G    0.0483    0.2219         0    0.2702       214      1024: 100% 759/759 [11:36<00:00,  1.09it/s]\n",
      "               Class      Images     Targets           P           R      mAP@.5  mAP@.5:.95: 100% 85/85 [01:01<00:00,  1.39it/s]\n",
      "                 all         338     1.5e+04       0.652       0.942       0.931       0.461\n",
      "\n",
      "     Epoch   gpu_mem      GIoU       obj       cls     total   targets  img_size\n",
      "      3/69     14.1G   0.04503    0.2139         0    0.2589       239      1024: 100% 759/759 [11:34<00:00,  1.09it/s]\n",
      "               Class      Images     Targets           P           R      mAP@.5  mAP@.5:.95: 100% 85/85 [01:01<00:00,  1.38it/s]\n",
      "                 all         338     1.5e+04       0.692       0.942       0.933       0.469\n",
      "\n",
      "     Epoch   gpu_mem      GIoU       obj       cls     total   targets  img_size\n",
      "      4/69     14.1G   0.04292    0.2086         0    0.2515       228      1024: 100% 759/759 [11:35<00:00,  1.09it/s]\n",
      "               Class      Images     Targets           P           R      mAP@.5  mAP@.5:.95: 100% 85/85 [01:00<00:00,  1.42it/s]\n",
      "                 all         338     1.5e+04       0.655       0.949       0.935       0.499\n",
      "\n",
      "     Epoch   gpu_mem      GIoU       obj       cls     total   targets  img_size\n",
      "      5/69     14.1G   0.04175    0.2064         0    0.2482       418      1024: 100% 759/759 [11:35<00:00,  1.09it/s]\n",
      "               Class      Images     Targets           P           R      mAP@.5  mAP@.5:.95: 100% 85/85 [01:01<00:00,  1.39it/s]\n",
      "                 all         338     1.5e+04       0.718       0.947       0.942       0.507\n",
      "\n",
      "     Epoch   gpu_mem      GIoU       obj       cls     total   targets  img_size\n",
      "      6/69     14.1G   0.04104    0.2041         0    0.2452       264      1024: 100% 759/759 [11:35<00:00,  1.09it/s]\n",
      "               Class      Images     Targets           P           R      mAP@.5  mAP@.5:.95: 100% 85/85 [01:00<00:00,  1.40it/s]\n",
      "                 all         338     1.5e+04       0.707        0.95       0.943       0.515\n",
      "\n",
      "     Epoch   gpu_mem      GIoU       obj       cls     total   targets  img_size\n",
      "      7/69     14.1G   0.04031    0.2043         0    0.2446       220      1024: 100% 759/759 [11:35<00:00,  1.09it/s]\n",
      "               Class      Images     Targets           P           R      mAP@.5  mAP@.5:.95: 100% 85/85 [01:00<00:00,  1.41it/s]\n",
      "                 all         338     1.5e+04       0.738       0.945       0.942       0.511\n",
      "\n",
      "     Epoch   gpu_mem      GIoU       obj       cls     total   targets  img_size\n",
      "      8/69     14.1G   0.04002    0.2055         0    0.2455       174      1024: 100% 759/759 [11:34<00:00,  1.09it/s]\n",
      "               Class      Images     Targets           P           R      mAP@.5  mAP@.5:.95: 100% 85/85 [00:59<00:00,  1.42it/s]\n",
      "                 all         338     1.5e+04       0.721       0.947       0.942       0.521\n",
      "\n",
      "     Epoch   gpu_mem      GIoU       obj       cls     total   targets  img_size\n",
      "      9/69     14.1G   0.03979    0.2023         0    0.2421       158      1024: 100% 759/759 [11:35<00:00,  1.09it/s]\n",
      "               Class      Images     Targets           P           R      mAP@.5  mAP@.5:.95: 100% 85/85 [01:00<00:00,  1.40it/s]\n",
      "                 all         338     1.5e+04       0.707       0.947       0.942       0.512\n",
      "\n",
      "     Epoch   gpu_mem      GIoU       obj       cls     total   targets  img_size\n",
      "     10/69     14.1G   0.03949    0.1986         0    0.2381       209      1024: 100% 759/759 [11:35<00:00,  1.09it/s]\n",
      "               Class      Images     Targets           P           R      mAP@.5  mAP@.5:.95: 100% 85/85 [00:59<00:00,  1.43it/s]\n",
      "                 all         338     1.5e+04       0.717       0.951       0.947       0.528\n",
      "\n",
      "     Epoch   gpu_mem      GIoU       obj       cls     total   targets  img_size\n",
      "     11/69     14.1G   0.03919    0.2017         0    0.2409       243      1024: 100% 759/759 [11:35<00:00,  1.09it/s]\n",
      "               Class      Images     Targets           P           R      mAP@.5  mAP@.5:.95: 100% 85/85 [01:00<00:00,  1.39it/s]\n",
      "                 all         338     1.5e+04       0.718       0.949       0.944       0.524\n",
      "\n",
      "     Epoch   gpu_mem      GIoU       obj       cls     total   targets  img_size\n",
      "     12/69     14.1G   0.03921    0.1992         0    0.2384       226      1024: 100% 759/759 [11:35<00:00,  1.09it/s]\n",
      "               Class      Images     Targets           P           R      mAP@.5  mAP@.5:.95: 100% 85/85 [01:01<00:00,  1.39it/s]\n",
      "                 all         338     1.5e+04        0.73       0.952       0.948        0.53\n",
      "\n",
      "     Epoch   gpu_mem      GIoU       obj       cls     total   targets  img_size\n",
      "     13/69     14.1G     0.039    0.2002         0    0.2392       142      1024: 100% 759/759 [11:36<00:00,  1.09it/s]\n",
      "               Class      Images     Targets           P           R      mAP@.5  mAP@.5:.95: 100% 85/85 [01:00<00:00,  1.40it/s]\n",
      "                 all         338     1.5e+04       0.719       0.952       0.947       0.529\n",
      "\n",
      "     Epoch   gpu_mem      GIoU       obj       cls     total   targets  img_size\n",
      "     14/69     14.1G   0.03849    0.1974         0    0.2359       193      1024: 100% 759/759 [11:36<00:00,  1.09it/s]\n",
      "               Class      Images     Targets           P           R      mAP@.5  mAP@.5:.95: 100% 85/85 [01:01<00:00,  1.39it/s]\n",
      "                 all         338     1.5e+04       0.733       0.948       0.946       0.525\n",
      "\n",
      "     Epoch   gpu_mem      GIoU       obj       cls     total   targets  img_size\n",
      "     15/69     14.1G   0.03863    0.1988         0    0.2374       180      1024: 100% 759/759 [11:35<00:00,  1.09it/s]\n",
      "               Class      Images     Targets           P           R      mAP@.5  mAP@.5:.95: 100% 85/85 [01:00<00:00,  1.40it/s]\n",
      "                 all         338     1.5e+04        0.74        0.95       0.947        0.53\n",
      "\n",
      "     Epoch   gpu_mem      GIoU       obj       cls     total   targets  img_size\n",
      "     16/69     14.1G   0.03847    0.1994         0    0.2379       211      1024: 100% 759/759 [11:35<00:00,  1.09it/s]\n",
      "               Class      Images     Targets           P           R      mAP@.5  mAP@.5:.95: 100% 85/85 [01:00<00:00,  1.41it/s]\n",
      "                 all         338     1.5e+04       0.732        0.95       0.947        0.53\n",
      "\n",
      "     Epoch   gpu_mem      GIoU       obj       cls     total   targets  img_size\n",
      "     17/69     14.1G   0.03808    0.1982         0    0.2362       194      1024: 100% 759/759 [11:35<00:00,  1.09it/s]\n",
      "               Class      Images     Targets           P           R      mAP@.5  mAP@.5:.95: 100% 85/85 [01:00<00:00,  1.41it/s]\n",
      "                 all         338     1.5e+04       0.731       0.952       0.948       0.533\n",
      "\n",
      "     Epoch   gpu_mem      GIoU       obj       cls     total   targets  img_size\n",
      "     18/69     14.1G   0.03793    0.1955         0    0.2334       281      1024: 100% 759/759 [11:37<00:00,  1.09it/s]\n",
      "               Class      Images     Targets           P           R      mAP@.5  mAP@.5:.95: 100% 85/85 [01:00<00:00,  1.40it/s]\n",
      "                 all         338     1.5e+04        0.75       0.949       0.947        0.53\n",
      "\n",
      "     Epoch   gpu_mem      GIoU       obj       cls     total   targets  img_size\n",
      "     19/69     14.1G   0.03779     0.195         0    0.2328       304      1024: 100% 759/759 [11:35<00:00,  1.09it/s]\n",
      "               Class      Images     Targets           P           R      mAP@.5  mAP@.5:.95: 100% 85/85 [01:00<00:00,  1.41it/s]\n",
      "                 all         338     1.5e+04       0.738       0.951       0.948       0.531\n",
      "\n",
      "     Epoch   gpu_mem      GIoU       obj       cls     total   targets  img_size\n",
      "     20/69     14.1G   0.03791    0.1992         0    0.2371       142      1024: 100% 759/759 [11:35<00:00,  1.09it/s]\n",
      "               Class      Images     Targets           P           R      mAP@.5  mAP@.5:.95: 100% 85/85 [01:00<00:00,  1.41it/s]\n",
      "                 all         338     1.5e+04       0.728       0.953       0.948       0.529\n",
      "\n",
      "     Epoch   gpu_mem      GIoU       obj       cls     total   targets  img_size\n",
      "     21/69     14.1G   0.03746    0.1963         0    0.2337       214      1024: 100% 759/759 [11:35<00:00,  1.09it/s]\n",
      "               Class      Images     Targets           P           R      mAP@.5  mAP@.5:.95: 100% 85/85 [00:59<00:00,  1.42it/s]\n",
      "                 all         338     1.5e+04       0.735       0.953       0.949       0.532\n",
      "\n",
      "     Epoch   gpu_mem      GIoU       obj       cls     total   targets  img_size\n",
      "     22/69     14.1G    0.0375    0.1951         0    0.2326       185      1024: 100% 759/759 [11:35<00:00,  1.09it/s]\n",
      "               Class      Images     Targets           P           R      mAP@.5  mAP@.5:.95: 100% 85/85 [01:00<00:00,  1.41it/s]\n",
      "                 all         338     1.5e+04       0.731       0.951       0.948       0.533\n",
      "\n",
      "     Epoch   gpu_mem      GIoU       obj       cls     total   targets  img_size\n",
      "     23/69     14.1G   0.03727    0.1906         0    0.2278       284      1024: 100% 759/759 [11:35<00:00,  1.09it/s]\n",
      "               Class      Images     Targets           P           R      mAP@.5  mAP@.5:.95: 100% 85/85 [01:00<00:00,  1.40it/s]\n",
      "                 all         338     1.5e+04       0.742       0.951       0.948       0.533\n",
      "\n",
      "     Epoch   gpu_mem      GIoU       obj       cls     total   targets  img_size\n",
      "     24/69     14.1G   0.03713    0.1928         0    0.2299       175      1024: 100% 759/759 [11:36<00:00,  1.09it/s]\n",
      "               Class      Images     Targets           P           R      mAP@.5  mAP@.5:.95: 100% 85/85 [01:00<00:00,  1.41it/s]\n",
      "                 all         338     1.5e+04       0.752       0.951       0.948       0.537\n",
      "\n",
      "     Epoch   gpu_mem      GIoU       obj       cls     total   targets  img_size\n",
      "     25/69     14.1G   0.03715    0.1903         0    0.2274       258      1024: 100% 759/759 [11:36<00:00,  1.09it/s]\n",
      "               Class      Images     Targets           P           R      mAP@.5  mAP@.5:.95: 100% 85/85 [01:00<00:00,  1.40it/s]\n",
      "                 all         338     1.5e+04       0.739       0.953        0.95       0.534\n",
      "\n",
      "     Epoch   gpu_mem      GIoU       obj       cls     total   targets  img_size\n",
      "     26/69     14.1G   0.03696    0.1916         0    0.2286       208      1024: 100% 759/759 [11:35<00:00,  1.09it/s]\n",
      "               Class      Images     Targets           P           R      mAP@.5  mAP@.5:.95: 100% 85/85 [01:00<00:00,  1.40it/s]\n",
      "                 all         338     1.5e+04       0.736       0.953       0.949       0.535\n",
      "\n",
      "     Epoch   gpu_mem      GIoU       obj       cls     total   targets  img_size\n",
      "     27/69     14.1G   0.03674     0.191         0    0.2278       173      1024: 100% 759/759 [11:35<00:00,  1.09it/s]\n",
      "               Class      Images     Targets           P           R      mAP@.5  mAP@.5:.95: 100% 85/85 [01:00<00:00,  1.41it/s]\n",
      "                 all         338     1.5e+04       0.746       0.953        0.95       0.535\n",
      "\n",
      "     Epoch   gpu_mem      GIoU       obj       cls     total   targets  img_size\n",
      "     28/69     14.1G    0.0368    0.1921         0    0.2289       243      1024: 100% 759/759 [11:34<00:00,  1.09it/s]\n",
      "               Class      Images     Targets           P           R      mAP@.5  mAP@.5:.95: 100% 85/85 [01:00<00:00,  1.41it/s]\n",
      "                 all         338     1.5e+04       0.746       0.953        0.95       0.534\n",
      "\n",
      "     Epoch   gpu_mem      GIoU       obj       cls     total   targets  img_size\n",
      "     29/69     14.1G   0.03691    0.1934         0    0.2303       243      1024: 100% 759/759 [11:35<00:00,  1.09it/s]\n",
      "               Class      Images     Targets           P           R      mAP@.5  mAP@.5:.95: 100% 85/85 [00:59<00:00,  1.42it/s]\n",
      "                 all         338     1.5e+04       0.748       0.952       0.949       0.534\n",
      "\n",
      "     Epoch   gpu_mem      GIoU       obj       cls     total   targets  img_size\n",
      "     30/69     14.1G   0.03664    0.1908         0    0.2274       211      1024: 100% 759/759 [11:35<00:00,  1.09it/s]\n",
      "               Class      Images     Targets           P           R      mAP@.5  mAP@.5:.95: 100% 85/85 [01:00<00:00,  1.41it/s]\n",
      "                 all         338     1.5e+04       0.755       0.952        0.95       0.535\n",
      "\n",
      "     Epoch   gpu_mem      GIoU       obj       cls     total   targets  img_size\n",
      "     31/69     14.1G   0.03666      0.19         0    0.2267       195      1024: 100% 759/759 [11:35<00:00,  1.09it/s]\n",
      "               Class      Images     Targets           P           R      mAP@.5  mAP@.5:.95: 100% 85/85 [00:59<00:00,  1.44it/s]\n",
      "                 all         338     1.5e+04       0.738       0.954       0.949       0.535\n",
      "\n",
      "     Epoch   gpu_mem      GIoU       obj       cls     total   targets  img_size\n",
      "     32/69     14.1G   0.03643    0.1906         0     0.227       250      1024: 100% 759/759 [11:35<00:00,  1.09it/s]\n",
      "               Class      Images     Targets           P           R      mAP@.5  mAP@.5:.95: 100% 85/85 [00:59<00:00,  1.43it/s]\n",
      "                 all         338     1.5e+04       0.755       0.952       0.949       0.537\n",
      "\n",
      "     Epoch   gpu_mem      GIoU       obj       cls     total   targets  img_size\n",
      "     33/69     14.1G   0.03643    0.1919         0    0.2284       251      1024: 100% 759/759 [11:35<00:00,  1.09it/s]\n",
      "               Class      Images     Targets           P           R      mAP@.5  mAP@.5:.95: 100% 85/85 [00:59<00:00,  1.43it/s]\n",
      "                 all         338     1.5e+04       0.753       0.952        0.95       0.536\n",
      "\n",
      "     Epoch   gpu_mem      GIoU       obj       cls     total   targets  img_size\n",
      "     34/69     14.1G   0.03621    0.1894         0    0.2256       140      1024: 100% 759/759 [11:35<00:00,  1.09it/s]\n",
      "               Class      Images     Targets           P           R      mAP@.5  mAP@.5:.95: 100% 85/85 [01:00<00:00,  1.41it/s]\n",
      "                 all         338     1.5e+04       0.755       0.952       0.949       0.537\n",
      "\n",
      "     Epoch   gpu_mem      GIoU       obj       cls     total   targets  img_size\n",
      "     35/69     14.1G   0.03616    0.1866         0    0.2227        83      1024: 100% 759/759 [11:35<00:00,  1.09it/s]\n",
      "               Class      Images     Targets           P           R      mAP@.5  mAP@.5:.95: 100% 85/85 [00:59<00:00,  1.43it/s]\n",
      "                 all         338     1.5e+04       0.747       0.955        0.95       0.541\n",
      "\n",
      "     Epoch   gpu_mem      GIoU       obj       cls     total   targets  img_size\n",
      "     36/69     14.1G   0.03608    0.1892         0    0.2252       201      1024: 100% 759/759 [11:35<00:00,  1.09it/s]\n",
      "               Class      Images     Targets           P           R      mAP@.5  mAP@.5:.95: 100% 85/85 [01:00<00:00,  1.41it/s]\n",
      "                 all         338     1.5e+04       0.748       0.955       0.951       0.539\n",
      "\n",
      "     Epoch   gpu_mem      GIoU       obj       cls     total   targets  img_size\n",
      "     37/69     14.1G   0.03624    0.1908         0    0.2271       293      1024: 100% 759/759 [11:34<00:00,  1.09it/s]\n",
      "               Class      Images     Targets           P           R      mAP@.5  mAP@.5:.95: 100% 85/85 [00:59<00:00,  1.42it/s]\n",
      "                 all         338     1.5e+04       0.749       0.953       0.949       0.537\n",
      "\n",
      "     Epoch   gpu_mem      GIoU       obj       cls     total   targets  img_size\n",
      "     38/69     14.1G   0.03601    0.1875         0    0.2236       199      1024: 100% 759/759 [11:35<00:00,  1.09it/s]\n",
      "               Class      Images     Targets           P           R      mAP@.5  mAP@.5:.95: 100% 85/85 [00:59<00:00,  1.42it/s]\n",
      "                 all         338     1.5e+04       0.756       0.952        0.95       0.539\n",
      "\n",
      "     Epoch   gpu_mem      GIoU       obj       cls     total   targets  img_size\n",
      "     39/69     14.1G     0.036    0.1891         0    0.2251       188      1024: 100% 759/759 [11:35<00:00,  1.09it/s]\n",
      "               Class      Images     Targets           P           R      mAP@.5  mAP@.5:.95: 100% 85/85 [00:59<00:00,  1.43it/s]\n",
      "                 all         338     1.5e+04       0.746       0.954        0.95       0.539\n",
      "\n",
      "     Epoch   gpu_mem      GIoU       obj       cls     total   targets  img_size\n",
      "     40/69     14.1G   0.03582    0.1852         0     0.221       175      1024: 100% 759/759 [11:38<00:00,  1.09it/s]\n",
      "               Class      Images     Targets           P           R      mAP@.5  mAP@.5:.95: 100% 85/85 [00:59<00:00,  1.42it/s]\n",
      "                 all         338     1.5e+04       0.754       0.953       0.949       0.538\n",
      "\n",
      "     Epoch   gpu_mem      GIoU       obj       cls     total   targets  img_size\n",
      "     41/69     14.1G   0.03595    0.1884         0    0.2244       237      1024: 100% 759/759 [11:35<00:00,  1.09it/s]\n",
      "               Class      Images     Targets           P           R      mAP@.5  mAP@.5:.95: 100% 85/85 [00:59<00:00,  1.43it/s]\n",
      "                 all         338     1.5e+04       0.751       0.952       0.949       0.538\n",
      "\n",
      "     Epoch   gpu_mem      GIoU       obj       cls     total   targets  img_size\n",
      "     42/69     14.1G   0.03593    0.1867         0    0.2226       189      1024: 100% 759/759 [11:35<00:00,  1.09it/s]\n",
      "               Class      Images     Targets           P           R      mAP@.5  mAP@.5:.95: 100% 85/85 [00:59<00:00,  1.42it/s]\n",
      "                 all         338     1.5e+04       0.755       0.954       0.951        0.54\n",
      "\n",
      "     Epoch   gpu_mem      GIoU       obj       cls     total   targets  img_size\n",
      "     43/69     14.1G   0.03548    0.1849         0    0.2204       257      1024: 100% 759/759 [11:35<00:00,  1.09it/s]\n",
      "               Class      Images     Targets           P           R      mAP@.5  mAP@.5:.95: 100% 85/85 [00:59<00:00,  1.42it/s]\n",
      "                 all         338     1.5e+04       0.755       0.954       0.951        0.54\n",
      "\n",
      "     Epoch   gpu_mem      GIoU       obj       cls     total   targets  img_size\n",
      "     44/69     14.1G   0.03561    0.1874         0     0.223       227      1024: 100% 759/759 [11:35<00:00,  1.09it/s]\n",
      "               Class      Images     Targets           P           R      mAP@.5  mAP@.5:.95: 100% 85/85 [00:59<00:00,  1.42it/s]\n",
      "                 all         338     1.5e+04       0.762       0.953        0.95       0.541\n",
      "\n",
      "     Epoch   gpu_mem      GIoU       obj       cls     total   targets  img_size\n",
      "     45/69     14.1G   0.03549    0.1881         0    0.2236       252      1024: 100% 759/759 [11:35<00:00,  1.09it/s]\n",
      "               Class      Images     Targets           P           R      mAP@.5  mAP@.5:.95: 100% 85/85 [00:59<00:00,  1.43it/s]\n",
      "                 all         338     1.5e+04       0.753       0.954        0.95       0.539\n",
      "\n",
      "     Epoch   gpu_mem      GIoU       obj       cls     total   targets  img_size\n",
      "     46/69     14.1G   0.03555    0.1872         0    0.2228       310      1024: 100% 759/759 [11:34<00:00,  1.09it/s]\n",
      "               Class      Images     Targets           P           R      mAP@.5  mAP@.5:.95: 100% 85/85 [00:59<00:00,  1.43it/s]\n",
      "                 all         338     1.5e+04       0.753       0.953        0.95        0.54\n",
      "\n",
      "     Epoch   gpu_mem      GIoU       obj       cls     total   targets  img_size\n",
      "     47/69     14.1G   0.03546    0.1842         0    0.2197       122      1024: 100% 759/759 [11:34<00:00,  1.09it/s]\n",
      "               Class      Images     Targets           P           R      mAP@.5  mAP@.5:.95: 100% 85/85 [00:59<00:00,  1.43it/s]\n",
      "                 all         338     1.5e+04       0.759       0.952        0.95       0.541\n",
      "\n",
      "     Epoch   gpu_mem      GIoU       obj       cls     total   targets  img_size\n",
      "     48/69     14.1G   0.03524    0.1834         0    0.2187       279      1024: 100% 759/759 [11:35<00:00,  1.09it/s]\n",
      "               Class      Images     Targets           P           R      mAP@.5  mAP@.5:.95: 100% 85/85 [00:59<00:00,  1.43it/s]\n",
      "                 all         338     1.5e+04       0.755       0.952        0.95       0.542\n",
      "\n",
      "     Epoch   gpu_mem      GIoU       obj       cls     total   targets  img_size\n",
      "     49/69     14.1G   0.03542    0.1834         0    0.2188       181      1024: 100% 759/759 [11:35<00:00,  1.09it/s]\n",
      "               Class      Images     Targets           P           R      mAP@.5  mAP@.5:.95: 100% 85/85 [00:58<00:00,  1.44it/s]\n",
      "                 all         338     1.5e+04       0.757       0.952        0.95       0.542\n",
      "\n",
      "     Epoch   gpu_mem      GIoU       obj       cls     total   targets  img_size\n",
      "     50/69     14.1G   0.03541    0.1868         0    0.2222       238      1024: 100% 759/759 [11:34<00:00,  1.09it/s]\n",
      "               Class      Images     Targets           P           R      mAP@.5  mAP@.5:.95: 100% 85/85 [01:00<00:00,  1.41it/s]\n",
      "                 all         338     1.5e+04       0.762       0.951        0.95       0.541\n",
      "\n",
      "     Epoch   gpu_mem      GIoU       obj       cls     total   targets  img_size\n",
      "     51/69     14.1G   0.03515    0.1844         0    0.2195       126      1024: 100% 759/759 [11:35<00:00,  1.09it/s]\n",
      "               Class      Images     Targets           P           R      mAP@.5  mAP@.5:.95: 100% 85/85 [01:00<00:00,  1.41it/s]\n",
      "                 all         338     1.5e+04       0.759       0.951       0.949       0.541\n",
      "\n",
      "     Epoch   gpu_mem      GIoU       obj       cls     total   targets  img_size\n",
      "     52/69     14.1G   0.03526    0.1814         0    0.2167       310      1024: 100% 759/759 [11:34<00:00,  1.09it/s]\n",
      "               Class      Images     Targets           P           R      mAP@.5  mAP@.5:.95: 100% 85/85 [00:59<00:00,  1.42it/s]\n",
      "                 all         338     1.5e+04        0.76       0.952       0.949       0.541\n",
      "\n",
      "     Epoch   gpu_mem      GIoU       obj       cls     total   targets  img_size\n",
      "     53/69     14.1G   0.03532    0.1836         0    0.2189       171      1024: 100% 759/759 [11:34<00:00,  1.09it/s]\n",
      "               Class      Images     Targets           P           R      mAP@.5  mAP@.5:.95: 100% 85/85 [01:00<00:00,  1.41it/s]\n",
      "                 all         338     1.5e+04       0.761       0.952        0.95       0.541\n",
      "\n",
      "     Epoch   gpu_mem      GIoU       obj       cls     total   targets  img_size\n",
      "     54/69     14.1G     0.035    0.1819         0    0.2169       181      1024: 100% 759/759 [11:36<00:00,  1.09it/s]\n",
      "               Class      Images     Targets           P           R      mAP@.5  mAP@.5:.95: 100% 85/85 [00:59<00:00,  1.43it/s]\n",
      "                 all         338     1.5e+04       0.765       0.951        0.95       0.541\n",
      "\n",
      "     Epoch   gpu_mem      GIoU       obj       cls     total   targets  img_size\n",
      "     55/69     14.1G   0.03498    0.1828         0    0.2178       189      1024: 100% 759/759 [11:34<00:00,  1.09it/s]\n",
      "               Class      Images     Targets           P           R      mAP@.5  mAP@.5:.95: 100% 85/85 [00:59<00:00,  1.43it/s]\n",
      "                 all         338     1.5e+04       0.763       0.951        0.95       0.541\n",
      "\n",
      "     Epoch   gpu_mem      GIoU       obj       cls     total   targets  img_size\n",
      "     56/69     14.1G   0.03512     0.184         0    0.2191       156      1024: 100% 759/759 [11:35<00:00,  1.09it/s]\n",
      "               Class      Images     Targets           P           R      mAP@.5  mAP@.5:.95: 100% 85/85 [00:59<00:00,  1.42it/s]\n",
      "                 all         338     1.5e+04       0.761       0.952        0.95       0.541\n",
      "\n",
      "     Epoch   gpu_mem      GIoU       obj       cls     total   targets  img_size\n",
      "     57/69     14.1G   0.03487    0.1813         0    0.2162       275      1024: 100% 759/759 [11:35<00:00,  1.09it/s]\n",
      "               Class      Images     Targets           P           R      mAP@.5  mAP@.5:.95: 100% 85/85 [01:00<00:00,  1.41it/s]\n",
      "                 all         338     1.5e+04       0.763       0.953        0.95       0.541\n",
      "\n",
      "     Epoch   gpu_mem      GIoU       obj       cls     total   targets  img_size\n",
      "     58/69     14.1G    0.0351    0.1847         0    0.2198       193      1024: 100% 759/759 [11:35<00:00,  1.09it/s]\n",
      "               Class      Images     Targets           P           R      mAP@.5  mAP@.5:.95: 100% 85/85 [01:00<00:00,  1.41it/s]\n",
      "                 all         338     1.5e+04       0.764       0.951        0.95       0.541\n",
      "\n",
      "     Epoch   gpu_mem      GIoU       obj       cls     total   targets  img_size\n",
      "     59/69     14.1G   0.03499    0.1827         0    0.2177       278      1024: 100% 759/759 [11:35<00:00,  1.09it/s]\n",
      "               Class      Images     Targets           P           R      mAP@.5  mAP@.5:.95: 100% 85/85 [01:00<00:00,  1.41it/s]\n",
      "                 all         338     1.5e+04       0.767       0.951        0.95       0.541\n",
      "\n",
      "     Epoch   gpu_mem      GIoU       obj       cls     total   targets  img_size\n",
      "     60/69     14.1G   0.03502     0.183         0    0.2181       140      1024: 100% 759/759 [11:35<00:00,  1.09it/s]\n",
      "               Class      Images     Targets           P           R      mAP@.5  mAP@.5:.95: 100% 85/85 [01:00<00:00,  1.41it/s]\n",
      "                 all         338     1.5e+04       0.768       0.951        0.95       0.541\n",
      "\n",
      "     Epoch   gpu_mem      GIoU       obj       cls     total   targets  img_size\n",
      "     61/69     14.1G    0.0347    0.1812         0    0.2159       242      1024: 100% 759/759 [11:35<00:00,  1.09it/s]\n",
      "               Class      Images     Targets           P           R      mAP@.5  mAP@.5:.95: 100% 85/85 [00:59<00:00,  1.44it/s]\n",
      "                 all         338     1.5e+04       0.763       0.952        0.95       0.541\n",
      "\n",
      "     Epoch   gpu_mem      GIoU       obj       cls     total   targets  img_size\n",
      "     62/69     14.1G    0.0348    0.1807         0    0.2155       230      1024: 100% 759/759 [11:35<00:00,  1.09it/s]\n",
      "               Class      Images     Targets           P           R      mAP@.5  mAP@.5:.95: 100% 85/85 [01:06<00:00,  1.28it/s]\n",
      "                 all         338     1.5e+04       0.774       0.952       0.951       0.543\n",
      "\n",
      "     Epoch   gpu_mem      GIoU       obj       cls     total   targets  img_size\n",
      "     63/69     14.1G   0.03487    0.1797         0    0.2146       237      1024: 100% 759/759 [11:35<00:00,  1.09it/s]\n",
      "               Class      Images     Targets           P           R      mAP@.5  mAP@.5:.95: 100% 85/85 [00:59<00:00,  1.44it/s]\n",
      "                 all         338     1.5e+04       0.767       0.953       0.951       0.542\n",
      "\n",
      "     Epoch   gpu_mem      GIoU       obj       cls     total   targets  img_size\n",
      "     64/69     14.1G   0.03471    0.1825         0    0.2172       199      1024: 100% 759/759 [11:36<00:00,  1.09it/s]\n",
      "               Class      Images     Targets           P           R      mAP@.5  mAP@.5:.95: 100% 85/85 [00:59<00:00,  1.44it/s]\n",
      "                 all         338     1.5e+04       0.767       0.952        0.95        0.54\n",
      "\n",
      "     Epoch   gpu_mem      GIoU       obj       cls     total   targets  img_size\n",
      "     65/69     14.1G    0.0349    0.1836         0    0.2185       219      1024: 100% 759/759 [11:35<00:00,  1.09it/s]\n",
      "               Class      Images     Targets           P           R      mAP@.5  mAP@.5:.95: 100% 85/85 [00:59<00:00,  1.43it/s]\n",
      "                 all         338     1.5e+04       0.769        0.95        0.95       0.542\n",
      "\n",
      "     Epoch   gpu_mem      GIoU       obj       cls     total   targets  img_size\n",
      "     66/69     14.1G   0.03497    0.1818         0    0.2168       266      1024: 100% 759/759 [11:35<00:00,  1.09it/s]\n",
      "               Class      Images     Targets           P           R      mAP@.5  mAP@.5:.95: 100% 85/85 [01:00<00:00,  1.40it/s]\n",
      "                 all         338     1.5e+04       0.771       0.952        0.95       0.541\n",
      "\n",
      "     Epoch   gpu_mem      GIoU       obj       cls     total   targets  img_size\n",
      "     67/69     14.1G   0.03465    0.1794         0     0.214       210      1024: 100% 759/759 [11:36<00:00,  1.09it/s]\n",
      "               Class      Images     Targets           P           R      mAP@.5  mAP@.5:.95: 100% 85/85 [01:00<00:00,  1.41it/s]\n",
      "                 all         338     1.5e+04       0.772       0.951       0.949       0.542\n",
      "\n",
      "     Epoch   gpu_mem      GIoU       obj       cls     total   targets  img_size\n",
      "     68/69     14.1G   0.03485    0.1817         0    0.2165       172      1024: 100% 759/759 [11:35<00:00,  1.09it/s]\n",
      "               Class      Images     Targets           P           R      mAP@.5  mAP@.5:.95: 100% 85/85 [00:59<00:00,  1.43it/s]\n",
      "                 all         338     1.5e+04       0.765       0.953        0.95       0.542\n",
      "\n",
      "     Epoch   gpu_mem      GIoU       obj       cls     total   targets  img_size\n",
      "     69/69     14.1G   0.03466    0.1809         0    0.2155       225      1024: 100% 759/759 [11:35<00:00,  1.09it/s]\n",
      "               Class      Images     Targets           P           R      mAP@.5  mAP@.5:.95: 100% 85/85 [00:59<00:00,  1.43it/s]\n",
      "                 all         338     1.5e+04       0.771       0.952        0.95       0.542\n",
      "Optimizer stripped from weights/last_yolov5x_4M70fold0.pt\n",
      "Optimizer stripped from weights/best_yolov5x_4M70fold0.pt\n",
      "70 epochs completed in 14.807 hours.\n",
      "\n"
     ]
    }
   ],
   "source": [
    "!python train.py --img 1024 --batch 4 --epochs 70 --data ../configyolov5-newpath/wheat0.yaml --cfg ../configyolov5-newpath/yolov5x.yaml --name yolov5x_4M70fold0 --weights ../yolov5-files/yolov5_weights/yolov5_models/yolov5x.pt\n",
    "!rm -rf convertor"
   ]
  },
  {
   "cell_type": "code",
   "execution_count": null,
   "metadata": {
    "colab": {},
    "colab_type": "code",
    "id": "pPXc9CLIuDdY"
   },
   "outputs": [],
   "source": []
  }
 ],
 "metadata": {
  "accelerator": "GPU",
  "colab": {
   "name": "YoloV5 [train].ipynb",
   "provenance": []
  },
  "kernelspec": {
   "display_name": "Python 3",
   "language": "python",
   "name": "python3"
  },
  "language_info": {
   "codemirror_mode": {
    "name": "ipython",
    "version": 3
   },
   "file_extension": ".py",
   "mimetype": "text/x-python",
   "name": "python",
   "nbconvert_exporter": "python",
   "pygments_lexer": "ipython3",
   "version": "3.7.3"
  },
  "widgets": {
   "application/vnd.jupyter.widget-state+json": {
    "1e663ea412984fb19927486935f91db6": {
     "model_module": "@jupyter-widgets/controls",
     "model_name": "HTMLModel",
     "state": {
      "_dom_classes": [],
      "_model_module": "@jupyter-widgets/controls",
      "_model_module_version": "1.5.0",
      "_model_name": "HTMLModel",
      "_view_count": null,
      "_view_module": "@jupyter-widgets/controls",
      "_view_module_version": "1.5.0",
      "_view_name": "HTMLView",
      "description": "",
      "description_tooltip": null,
      "layout": "IPY_MODEL_32b18bc46826430b916bf55020fd764f",
      "placeholder": "​",
      "style": "IPY_MODEL_25e9fca22c5d426aa8abbc5c893a2b66",
      "value": " 3373/3373 [01:46&lt;00:00, 31.55it/s]"
     }
    },
    "25e9fca22c5d426aa8abbc5c893a2b66": {
     "model_module": "@jupyter-widgets/controls",
     "model_name": "DescriptionStyleModel",
     "state": {
      "_model_module": "@jupyter-widgets/controls",
      "_model_module_version": "1.5.0",
      "_model_name": "DescriptionStyleModel",
      "_view_count": null,
      "_view_module": "@jupyter-widgets/base",
      "_view_module_version": "1.2.0",
      "_view_name": "StyleView",
      "description_width": ""
     }
    },
    "2d338b8700e34eadb13d673f115bbce2": {
     "model_module": "@jupyter-widgets/controls",
     "model_name": "HBoxModel",
     "state": {
      "_dom_classes": [],
      "_model_module": "@jupyter-widgets/controls",
      "_model_module_version": "1.5.0",
      "_model_name": "HBoxModel",
      "_view_count": null,
      "_view_module": "@jupyter-widgets/controls",
      "_view_module_version": "1.5.0",
      "_view_name": "HBoxView",
      "box_style": "",
      "children": [
       "IPY_MODEL_79ebbe672732413b95ae300df25a3eba",
       "IPY_MODEL_1e663ea412984fb19927486935f91db6"
      ],
      "layout": "IPY_MODEL_d6c3fb98454149169cb513eac3d3781c"
     }
    },
    "32b18bc46826430b916bf55020fd764f": {
     "model_module": "@jupyter-widgets/base",
     "model_name": "LayoutModel",
     "state": {
      "_model_module": "@jupyter-widgets/base",
      "_model_module_version": "1.2.0",
      "_model_name": "LayoutModel",
      "_view_count": null,
      "_view_module": "@jupyter-widgets/base",
      "_view_module_version": "1.2.0",
      "_view_name": "LayoutView",
      "align_content": null,
      "align_items": null,
      "align_self": null,
      "border": null,
      "bottom": null,
      "display": null,
      "flex": null,
      "flex_flow": null,
      "grid_area": null,
      "grid_auto_columns": null,
      "grid_auto_flow": null,
      "grid_auto_rows": null,
      "grid_column": null,
      "grid_gap": null,
      "grid_row": null,
      "grid_template_areas": null,
      "grid_template_columns": null,
      "grid_template_rows": null,
      "height": null,
      "justify_content": null,
      "justify_items": null,
      "left": null,
      "margin": null,
      "max_height": null,
      "max_width": null,
      "min_height": null,
      "min_width": null,
      "object_fit": null,
      "object_position": null,
      "order": null,
      "overflow": null,
      "overflow_x": null,
      "overflow_y": null,
      "padding": null,
      "right": null,
      "top": null,
      "visibility": null,
      "width": null
     }
    },
    "3770961bf94d4f3f96bd8db08dcb05ec": {
     "model_module": "@jupyter-widgets/controls",
     "model_name": "ProgressStyleModel",
     "state": {
      "_model_module": "@jupyter-widgets/controls",
      "_model_module_version": "1.5.0",
      "_model_name": "ProgressStyleModel",
      "_view_count": null,
      "_view_module": "@jupyter-widgets/base",
      "_view_module_version": "1.2.0",
      "_view_name": "StyleView",
      "bar_color": null,
      "description_width": "initial"
     }
    },
    "79ebbe672732413b95ae300df25a3eba": {
     "model_module": "@jupyter-widgets/controls",
     "model_name": "FloatProgressModel",
     "state": {
      "_dom_classes": [],
      "_model_module": "@jupyter-widgets/controls",
      "_model_module_version": "1.5.0",
      "_model_name": "FloatProgressModel",
      "_view_count": null,
      "_view_module": "@jupyter-widgets/controls",
      "_view_module_version": "1.5.0",
      "_view_name": "ProgressView",
      "bar_style": "success",
      "description": "100%",
      "description_tooltip": null,
      "layout": "IPY_MODEL_d14f62ffb3cd459e8f7d8ae475a51e4d",
      "max": 3373,
      "min": 0,
      "orientation": "horizontal",
      "style": "IPY_MODEL_3770961bf94d4f3f96bd8db08dcb05ec",
      "value": 3373
     }
    },
    "d14f62ffb3cd459e8f7d8ae475a51e4d": {
     "model_module": "@jupyter-widgets/base",
     "model_name": "LayoutModel",
     "state": {
      "_model_module": "@jupyter-widgets/base",
      "_model_module_version": "1.2.0",
      "_model_name": "LayoutModel",
      "_view_count": null,
      "_view_module": "@jupyter-widgets/base",
      "_view_module_version": "1.2.0",
      "_view_name": "LayoutView",
      "align_content": null,
      "align_items": null,
      "align_self": null,
      "border": null,
      "bottom": null,
      "display": null,
      "flex": null,
      "flex_flow": null,
      "grid_area": null,
      "grid_auto_columns": null,
      "grid_auto_flow": null,
      "grid_auto_rows": null,
      "grid_column": null,
      "grid_gap": null,
      "grid_row": null,
      "grid_template_areas": null,
      "grid_template_columns": null,
      "grid_template_rows": null,
      "height": null,
      "justify_content": null,
      "justify_items": null,
      "left": null,
      "margin": null,
      "max_height": null,
      "max_width": null,
      "min_height": null,
      "min_width": null,
      "object_fit": null,
      "object_position": null,
      "order": null,
      "overflow": null,
      "overflow_x": null,
      "overflow_y": null,
      "padding": null,
      "right": null,
      "top": null,
      "visibility": null,
      "width": null
     }
    },
    "d6c3fb98454149169cb513eac3d3781c": {
     "model_module": "@jupyter-widgets/base",
     "model_name": "LayoutModel",
     "state": {
      "_model_module": "@jupyter-widgets/base",
      "_model_module_version": "1.2.0",
      "_model_name": "LayoutModel",
      "_view_count": null,
      "_view_module": "@jupyter-widgets/base",
      "_view_module_version": "1.2.0",
      "_view_name": "LayoutView",
      "align_content": null,
      "align_items": null,
      "align_self": null,
      "border": null,
      "bottom": null,
      "display": null,
      "flex": null,
      "flex_flow": null,
      "grid_area": null,
      "grid_auto_columns": null,
      "grid_auto_flow": null,
      "grid_auto_rows": null,
      "grid_column": null,
      "grid_gap": null,
      "grid_row": null,
      "grid_template_areas": null,
      "grid_template_columns": null,
      "grid_template_rows": null,
      "height": null,
      "justify_content": null,
      "justify_items": null,
      "left": null,
      "margin": null,
      "max_height": null,
      "max_width": null,
      "min_height": null,
      "min_width": null,
      "object_fit": null,
      "object_position": null,
      "order": null,
      "overflow": null,
      "overflow_x": null,
      "overflow_y": null,
      "padding": null,
      "right": null,
      "top": null,
      "visibility": null,
      "width": null
     }
    }
   }
  }
 },
 "nbformat": 4,
 "nbformat_minor": 1
}
